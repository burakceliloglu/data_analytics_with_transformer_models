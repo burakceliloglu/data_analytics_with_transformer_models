{
 "cells": [
  {
   "metadata": {},
   "cell_type": "markdown",
   "source": "This section imports the necessary libraries for data manipulation (pandas), using transformer models (transformers), handling tensors (torch), and evaluation metrics like accuracy and confusion matrices (sklearn).",
   "id": "ee7b6bfdf5f8b482"
  },
  {
   "metadata": {},
   "cell_type": "code",
   "outputs": [],
   "execution_count": null,
   "source": "!pip install transformers datasets torch huggingface_hub",
   "id": "initial_id"
  },
  {
   "metadata": {},
   "cell_type": "code",
   "outputs": [],
   "execution_count": null,
   "source": [
    "import pandas as pd\n",
    "from transformers import AutoTokenizer, AutoModelForSequenceClassification\n",
    "import torch\n",
    "import numpy as np\n",
    "from sklearn.metrics import accuracy_score, classification_report, confusion_matrix"
   ],
   "id": "bcba7bc547a796c4"
  },
  {
   "metadata": {},
   "cell_type": "markdown",
   "source": [
    "Loads the CSV file Reviews.csv into a Pandas DataFrame.\n",
    "Combines the Summary and Text columns into a new column called combined_text to create a single text input for analysis, replacing NaN values with empty strings. Taking account of NaN because when we combine them if one of the column is NaN then it will return NaN."
   ],
   "id": "95bf744a58cd3728"
  },
  {
   "metadata": {},
   "cell_type": "code",
   "outputs": [],
   "execution_count": null,
   "source": [
    "file_path = 'Reviews.csv' #Amazon Fine Food Reviews\n",
    "data = pd.read_csv(file_path)\n",
    "\n",
    "data['combined_text'] = data['Summary'].fillna('') + \". \" + data['Text'].fillna('')"
   ],
   "id": "69466fdf462e2dab"
  },
  {
   "metadata": {},
   "cell_type": "markdown",
   "source": [
    "Loads pre-trained models for sentiment analysis: RoBERTa, BERT, and ALBERT.\n",
    "Tokenizers for each model are also initialized to convert text into input suitable for the models."
   ],
   "id": "da6e7aeab5d20e22"
  },
  {
   "metadata": {},
   "cell_type": "code",
   "outputs": [],
   "execution_count": null,
   "source": [
    "roberta_model_name = \"cardiffnlp/twitter-roberta-base-sentiment\"\n",
    "roberta_tokenizer = AutoTokenizer.from_pretrained(roberta_model_name)\n",
    "roberta_model = AutoModelForSequenceClassification.from_pretrained(roberta_model_name)\n",
    "\n",
    "bert_model_name = \"nlptown/bert-base-multilingual-uncased-sentiment\"\n",
    "bert_tokenizer = AutoTokenizer.from_pretrained(bert_model_name)\n",
    "bert_model = AutoModelForSequenceClassification.from_pretrained(bert_model_name)\n",
    "\n",
    "albert_model_name = \"textattack/albert-base-v2-imdb\"\n",
    "albert_tokenizer = AutoTokenizer.from_pretrained(albert_model_name)\n",
    "albert_model = AutoModelForSequenceClassification.from_pretrained(albert_model_name)"
   ],
   "id": "1d44d2dcaa3d2d7a"
  },
  {
   "metadata": {},
   "cell_type": "markdown",
   "source": "Prints the sentiment label mappings (id2label) of each model to understand their outputs, such as \"negative,\" \"neutral,\" or \"positive.\"",
   "id": "d6aeff663aca3ba2"
  },
  {
   "metadata": {},
   "cell_type": "code",
   "outputs": [],
   "execution_count": null,
   "source": [
    "print(roberta_model.config.id2label)\n",
    "print(bert_model.config.id2label)\n",
    "print(albert_model.config.id2label)"
   ],
   "id": "3c573b70dab93aab"
  },
  {
   "metadata": {},
   "cell_type": "markdown",
   "source": [
    "Processes text using the RoBERTa tokenizer and model.\n",
    "Computes sentiment probabilities for \"negative,\" \"neutral,\" and \"positive\" sentiments using softmax."
   ],
   "id": "984e106b53c14cd2"
  },
  {
   "metadata": {},
   "cell_type": "code",
   "outputs": [],
   "execution_count": null,
   "source": [
    "def analyze_sentiment_roberta(text):\n",
    "    try:\n",
    "        tokens = roberta_tokenizer(text[:512], return_tensors=\"pt\", truncation=True, padding=True)\n",
    "        outputs = roberta_model(**tokens)\n",
    "        scores = torch.nn.functional.softmax(outputs.logits, dim=1).detach().numpy()[0]\n",
    "        return {\n",
    "            'neg': scores[0],\n",
    "            'neu': scores[1],\n",
    "            'pos': scores[2],\n",
    "        }\n",
    "    except Exception as e:\n",
    "        print(f\"Error processing text: {e}\")\n",
    "        return {'neg': 0, 'neu': 0, 'pos': 0}"
   ],
   "id": "2a1112ce022a58c1"
  },
  {
   "metadata": {},
   "cell_type": "markdown",
   "source": "",
   "id": "b2ed7935bb256af8"
  },
  {
   "metadata": {},
   "cell_type": "code",
   "outputs": [],
   "execution_count": null,
   "source": [
    "def analyze_sentiment_bert(text):\n",
    "    try:\n",
    "        tokens = bert_tokenizer(text, return_tensors=\"pt\", truncation=True, padding=True)\n",
    "        outputs = bert_model(**tokens)\n",
    "        logits = outputs.logits.detach().numpy()[0]\n",
    "        scores = torch.nn.functional.softmax(torch.tensor(logits), dim=0).numpy()\n",
    "        return scores\n",
    "\n",
    "    except Exception as e:\n",
    "        print(f\"Error processing text: {e}\")\n",
    "        return None"
   ],
   "id": "ab781b24ac6b34f"
  },
  {
   "metadata": {},
   "cell_type": "code",
   "outputs": [],
   "execution_count": null,
   "source": [
    "def analyze_sentiment_albert(text):\n",
    "    try:\n",
    "        tokens = albert_tokenizer(text[:512], return_tensors=\"pt\", truncation=True, padding=True)\n",
    "        outputs = albert_model(**tokens)\n",
    "        scores = torch.nn.functional.softmax(outputs.logits, dim=1).detach().numpy()[0]\n",
    "        return {\n",
    "            'neg': scores[0],\n",
    "            'pos': scores[1]\n",
    "        }\n",
    "    except Exception as e:\n",
    "        print(f\"Error processing text: {e}\")\n",
    "        return {'neg': 0, 'pos': 0}"
   ],
   "id": "8c568b33d543fae8"
  },
  {
   "metadata": {},
   "cell_type": "code",
   "outputs": [],
   "execution_count": null,
   "source": [
    "roberta_sentiments = data['combined_text'].apply(analyze_sentiment_roberta)\n",
    "data['roberta_negativity'] = roberta_sentiments.apply(lambda x: x['neg'])\n",
    "data['roberta_neutrality'] = roberta_sentiments.apply(lambda x: x['neu'])\n",
    "data['roberta_positivity'] = roberta_sentiments.apply(lambda x: x['pos'])"
   ],
   "id": "6966dee203b4376e"
  },
  {
   "metadata": {},
   "cell_type": "code",
   "outputs": [],
   "execution_count": null,
   "source": [
    "scores = data[\"combined_text\"].apply(analyze_sentiment_bert)\n",
    "for i in range(bert_model.config.num_labels):\n",
    "    data[f\"label_{i+1}\"] = scores.apply(lambda x: x[i])"
   ],
   "id": "68b98cd4f7cbfcc7"
  },
  {
   "metadata": {},
   "cell_type": "code",
   "outputs": [],
   "execution_count": null,
   "source": [
    "albert_sentiments = data['combined_text'].apply(analyze_sentiment_albert)\n",
    "data['albert_negativity'] = albert_sentiments.apply(lambda x: x['neg'])\n",
    "data['albert_positivity'] = albert_sentiments.apply(lambda x: x['pos'])"
   ],
   "id": "23ee615e319f0cb1"
  },
  {
   "metadata": {},
   "cell_type": "code",
   "outputs": [],
   "execution_count": null,
   "source": [
    "def categorize_score(score):\n",
    "    if score <= 2:\n",
    "        return 'negative'\n",
    "    elif score == 3:\n",
    "        return 'neutral'\n",
    "    else:\n",
    "        return 'positive'\n",
    "data['Score_Category'] = data['Score'].apply(categorize_score)"
   ],
   "id": "751c874bd2d27e7b"
  },
  {
   "metadata": {},
   "cell_type": "code",
   "outputs": [],
   "execution_count": null,
   "source": [
    "def classify_sentiment(row):\n",
    "    if row[\"roberta_negativity\"] > row[\"roberta_neutrality\"] and row[\"roberta_negativity\"] > row[\"roberta_positivity\"]:\n",
    "        return \"negative\"\n",
    "    elif row[\"roberta_neutrality\"] > row[\"roberta_negativity\"] and row[\"roberta_neutrality\"] > row[\"roberta_positivity\"]:\n",
    "        return \"neutral\"\n",
    "    else:\n",
    "        return \"positive\"\n",
    "data[\"Roberta_Category\"] = data.apply(classify_sentiment, axis=1)\n",
    "\n",
    "data[['Id', 'combined_text', 'Score_Category', 'Roberta_Category']]"
   ],
   "id": "fce828917cba1223"
  },
  {
   "metadata": {},
   "cell_type": "code",
   "outputs": [],
   "execution_count": null,
   "source": [
    "data[\"Sentiment_Match_Roberta\"] = data[\"Score_Category\"] == data[\"Roberta_Category\"]\n",
    "match_percentage = data[\"Sentiment_Match_Roberta\"].mean() * 100\n",
    "mismatched_rows = data[data[\"Sentiment_Match_Roberta\"] == False]\n",
    "print(f\"Percentage of matching predictions: {match_percentage:.2f}%\")\n",
    "print(\"Mismatched predictions:\")\n",
    "print(mismatched_rows[[\"Score_Category\", \"Roberta_Category\"]])"
   ],
   "id": "ca4311d04dbb8161"
  },
  {
   "metadata": {},
   "cell_type": "code",
   "outputs": [],
   "execution_count": null,
   "source": [
    "conf_matrix = confusion_matrix(data['Score_Category'], data['Roberta_Category'], labels=['positive', 'neutral', 'negative'])\n",
    "class_report = classification_report(data['Score_Category'], data['Roberta_Category'], target_names=['positive', 'neutral', 'negative'])\n",
    "print(\"Confusion Matrix of Roberta:\")\n",
    "print(conf_matrix)\n",
    "print(\"\\nClassification Report of Roberta:\")\n",
    "print(class_report)"
   ],
   "id": "a6f895a0f07edd7c"
  },
  {
   "metadata": {},
   "cell_type": "code",
   "outputs": [],
   "execution_count": null,
   "source": [
    "#BERT\n",
    "label_columns = ['label_1', 'label_2', 'label_3', 'label_4', 'label_5']\n",
    "data['Predicted_Sentiment_BERT'] = data[label_columns].idxmax(axis=1).str.extract('(\\d)').astype(int)\n",
    "class_report = classification_report(data['Score'], data['Predicted_Score'])\n",
    "accuracy = accuracy_score(data['Score'], data['Predicted_Score'])\n",
    "conf_matrix = confusion_matrix(data['Score'], data['Predicted_Score'])\n",
    "print(f\"Accuracy: {accuracy:.2f}\")\n",
    "print(\"Confusion Matrix of BERT:\")\n",
    "print(conf_matrix)\n",
    "print(\"\\nClassification Report of BERT:\")\n",
    "print(class_report)"
   ],
   "id": "85d75d5e62af6dae"
  },
  {
   "metadata": {},
   "cell_type": "code",
   "outputs": [],
   "execution_count": null,
   "source": [
    "#ALBERT\n",
    "def predict_sentiment(row):\n",
    "    if row['albert_positivity'] > 0.5:\n",
    "        return 'positive'\n",
    "    elif row['albert_negativity'] > 0.5:\n",
    "        return 'negative'\n",
    "    else:\n",
    "        return 'neutral'\n",
    "\n",
    "data['Predicted_Sentiment_Albert'] = data.apply(predict_sentiment, axis=1)\n",
    "\n",
    "conf_matrix = confusion_matrix(data['Score_Category'], data['Predicted_Sentiment_Albert'], labels=['positive', 'neutral', 'negative'])\n",
    "class_report = classification_report(data['Score_Category'], data['Predicted_Sentiment_Albert'], target_names=['positive', 'neutral', 'negative'])\n",
    "\n",
    "print(\"Confusion Matrix of Albert:\")\n",
    "print(conf_matrix)\n",
    "print(\"\\nClassification Report of Albert:\")\n",
    "print(class_report)"
   ],
   "id": "3bcb5023759e520d"
  },
  {
   "metadata": {},
   "cell_type": "markdown",
   "source": [
    "### Additional Analysis\n",
    "Identifies specific reviews where predictions are interesting or potentially mismatched for further investigation."
   ],
   "id": "beb34896e35f0282"
  },
  {
   "metadata": {},
   "cell_type": "code",
   "outputs": [],
   "execution_count": null,
   "source": "data.query('Score == 1').sort_values('roberta_positivity', ascending=False).iloc[3][\"Text\"]",
   "id": "cf233c14722ed584"
  },
  {
   "metadata": {},
   "cell_type": "code",
   "outputs": [],
   "execution_count": null,
   "source": "data.query('Score == 5').sort_values('roberta_negativity', ascending=False).iloc[1][\"Text\"]",
   "id": "3d3ca16618260734"
  }
 ],
 "metadata": {
  "kernelspec": {
   "display_name": "Python 3",
   "language": "python",
   "name": "python3"
  },
  "language_info": {
   "codemirror_mode": {
    "name": "ipython",
    "version": 2
   },
   "file_extension": ".py",
   "mimetype": "text/x-python",
   "name": "python",
   "nbconvert_exporter": "python",
   "pygments_lexer": "ipython2",
   "version": "2.7.6"
  }
 },
 "nbformat": 4,
 "nbformat_minor": 5
}
